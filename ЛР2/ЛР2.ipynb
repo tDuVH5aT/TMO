{
 "cells": [
  {
   "cell_type": "code",
   "execution_count": 1,
   "id": "ed0ffe7b",
   "metadata": {},
   "outputs": [],
   "source": [
    "import numpy as np\n",
    "import pandas as pd\n",
    "import seaborn as sns\n",
    "import matplotlib.pyplot as plt\n",
    "%matplotlib inline \n",
    "sns.set(style=\"ticks\")\n"
   ]
  },
  {
   "cell_type": "code",
   "execution_count": 20,
   "id": "0fe17572",
   "metadata": {},
   "outputs": [],
   "source": [
    "data = pd.read_csv('country_vaccinations.csv', sep=\",\")"
   ]
  },
  {
   "cell_type": "code",
   "execution_count": 21,
   "id": "46971274",
   "metadata": {},
   "outputs": [
    {
     "data": {
      "text/plain": [
       "(5236, 15)"
      ]
     },
     "execution_count": 21,
     "metadata": {},
     "output_type": "execute_result"
    }
   ],
   "source": [
    "data.shape"
   ]
  },
  {
   "cell_type": "code",
   "execution_count": 5,
   "id": "a5a7c5f9",
   "metadata": {},
   "outputs": [
    {
     "data": {
      "text/plain": [
       "country                                 object\n",
       "iso_code                                object\n",
       "date                                    object\n",
       "total_vaccinations                     float64\n",
       "people_vaccinated                      float64\n",
       "people_fully_vaccinated                float64\n",
       "daily_vaccinations_raw                 float64\n",
       "daily_vaccinations                     float64\n",
       "total_vaccinations_per_hundred         float64\n",
       "people_vaccinated_per_hundred          float64\n",
       "people_fully_vaccinated_per_hundred    float64\n",
       "daily_vaccinations_per_million         float64\n",
       "vaccines                                object\n",
       "source_name                             object\n",
       "source_website                          object\n",
       "dtype: object"
      ]
     },
     "execution_count": 5,
     "metadata": {},
     "output_type": "execute_result"
    }
   ],
   "source": [
    "data.dtypes"
   ]
  },
  {
   "cell_type": "code",
   "execution_count": 6,
   "id": "f92ee5db",
   "metadata": {},
   "outputs": [
    {
     "data": {
      "text/plain": [
       "country                                   0\n",
       "iso_code                                328\n",
       "date                                      0\n",
       "total_vaccinations                     1874\n",
       "people_vaccinated                      2302\n",
       "people_fully_vaccinated                3239\n",
       "daily_vaccinations_raw                 2406\n",
       "daily_vaccinations                      183\n",
       "total_vaccinations_per_hundred         1874\n",
       "people_vaccinated_per_hundred          2302\n",
       "people_fully_vaccinated_per_hundred    3239\n",
       "daily_vaccinations_per_million          183\n",
       "vaccines                                  0\n",
       "source_name                               6\n",
       "source_website                            0\n",
       "dtype: int64"
      ]
     },
     "execution_count": 6,
     "metadata": {},
     "output_type": "execute_result"
    }
   ],
   "source": [
    "data.isnull().sum()"
   ]
  },
  {
   "cell_type": "code",
   "execution_count": 7,
   "id": "bdd00d32",
   "metadata": {},
   "outputs": [
    {
     "data": {
      "text/html": [
       "<div>\n",
       "<style scoped>\n",
       "    .dataframe tbody tr th:only-of-type {\n",
       "        vertical-align: middle;\n",
       "    }\n",
       "\n",
       "    .dataframe tbody tr th {\n",
       "        vertical-align: top;\n",
       "    }\n",
       "\n",
       "    .dataframe thead th {\n",
       "        text-align: right;\n",
       "    }\n",
       "</style>\n",
       "<table border=\"1\" class=\"dataframe\">\n",
       "  <thead>\n",
       "    <tr style=\"text-align: right;\">\n",
       "      <th></th>\n",
       "      <th>country</th>\n",
       "      <th>iso_code</th>\n",
       "      <th>date</th>\n",
       "      <th>total_vaccinations</th>\n",
       "      <th>people_vaccinated</th>\n",
       "      <th>people_fully_vaccinated</th>\n",
       "      <th>daily_vaccinations_raw</th>\n",
       "      <th>daily_vaccinations</th>\n",
       "      <th>total_vaccinations_per_hundred</th>\n",
       "      <th>people_vaccinated_per_hundred</th>\n",
       "      <th>people_fully_vaccinated_per_hundred</th>\n",
       "      <th>daily_vaccinations_per_million</th>\n",
       "      <th>vaccines</th>\n",
       "      <th>source_name</th>\n",
       "      <th>source_website</th>\n",
       "    </tr>\n",
       "  </thead>\n",
       "  <tbody>\n",
       "    <tr>\n",
       "      <th>0</th>\n",
       "      <td>Albania</td>\n",
       "      <td>ALB</td>\n",
       "      <td>2021-01-10</td>\n",
       "      <td>0.0</td>\n",
       "      <td>0.0</td>\n",
       "      <td>NaN</td>\n",
       "      <td>NaN</td>\n",
       "      <td>NaN</td>\n",
       "      <td>0.00</td>\n",
       "      <td>0.00</td>\n",
       "      <td>NaN</td>\n",
       "      <td>NaN</td>\n",
       "      <td>Pfizer/BioNTech</td>\n",
       "      <td>Ministry of Health</td>\n",
       "      <td>https://shendetesia.gov.al/covid19-ministria-e...</td>\n",
       "    </tr>\n",
       "    <tr>\n",
       "      <th>1</th>\n",
       "      <td>Albania</td>\n",
       "      <td>ALB</td>\n",
       "      <td>2021-01-11</td>\n",
       "      <td>NaN</td>\n",
       "      <td>NaN</td>\n",
       "      <td>NaN</td>\n",
       "      <td>NaN</td>\n",
       "      <td>64.0</td>\n",
       "      <td>NaN</td>\n",
       "      <td>NaN</td>\n",
       "      <td>NaN</td>\n",
       "      <td>22.0</td>\n",
       "      <td>Pfizer/BioNTech</td>\n",
       "      <td>Ministry of Health</td>\n",
       "      <td>https://shendetesia.gov.al/covid19-ministria-e...</td>\n",
       "    </tr>\n",
       "    <tr>\n",
       "      <th>2</th>\n",
       "      <td>Albania</td>\n",
       "      <td>ALB</td>\n",
       "      <td>2021-01-12</td>\n",
       "      <td>128.0</td>\n",
       "      <td>128.0</td>\n",
       "      <td>NaN</td>\n",
       "      <td>NaN</td>\n",
       "      <td>64.0</td>\n",
       "      <td>0.00</td>\n",
       "      <td>0.00</td>\n",
       "      <td>NaN</td>\n",
       "      <td>22.0</td>\n",
       "      <td>Pfizer/BioNTech</td>\n",
       "      <td>Ministry of Health</td>\n",
       "      <td>https://shendetesia.gov.al/covid19-ministria-e...</td>\n",
       "    </tr>\n",
       "    <tr>\n",
       "      <th>3</th>\n",
       "      <td>Albania</td>\n",
       "      <td>ALB</td>\n",
       "      <td>2021-01-13</td>\n",
       "      <td>188.0</td>\n",
       "      <td>188.0</td>\n",
       "      <td>NaN</td>\n",
       "      <td>60.0</td>\n",
       "      <td>63.0</td>\n",
       "      <td>0.01</td>\n",
       "      <td>0.01</td>\n",
       "      <td>NaN</td>\n",
       "      <td>22.0</td>\n",
       "      <td>Pfizer/BioNTech</td>\n",
       "      <td>Ministry of Health</td>\n",
       "      <td>https://shendetesia.gov.al/covid19-ministria-e...</td>\n",
       "    </tr>\n",
       "    <tr>\n",
       "      <th>4</th>\n",
       "      <td>Albania</td>\n",
       "      <td>ALB</td>\n",
       "      <td>2021-01-14</td>\n",
       "      <td>266.0</td>\n",
       "      <td>266.0</td>\n",
       "      <td>NaN</td>\n",
       "      <td>78.0</td>\n",
       "      <td>66.0</td>\n",
       "      <td>0.01</td>\n",
       "      <td>0.01</td>\n",
       "      <td>NaN</td>\n",
       "      <td>23.0</td>\n",
       "      <td>Pfizer/BioNTech</td>\n",
       "      <td>Ministry of Health</td>\n",
       "      <td>https://shendetesia.gov.al/covid19-ministria-e...</td>\n",
       "    </tr>\n",
       "  </tbody>\n",
       "</table>\n",
       "</div>"
      ],
      "text/plain": [
       "   country iso_code        date  total_vaccinations  people_vaccinated  \\\n",
       "0  Albania      ALB  2021-01-10                 0.0                0.0   \n",
       "1  Albania      ALB  2021-01-11                 NaN                NaN   \n",
       "2  Albania      ALB  2021-01-12               128.0              128.0   \n",
       "3  Albania      ALB  2021-01-13               188.0              188.0   \n",
       "4  Albania      ALB  2021-01-14               266.0              266.0   \n",
       "\n",
       "   people_fully_vaccinated  daily_vaccinations_raw  daily_vaccinations  \\\n",
       "0                      NaN                     NaN                 NaN   \n",
       "1                      NaN                     NaN                64.0   \n",
       "2                      NaN                     NaN                64.0   \n",
       "3                      NaN                    60.0                63.0   \n",
       "4                      NaN                    78.0                66.0   \n",
       "\n",
       "   total_vaccinations_per_hundred  people_vaccinated_per_hundred  \\\n",
       "0                            0.00                           0.00   \n",
       "1                             NaN                            NaN   \n",
       "2                            0.00                           0.00   \n",
       "3                            0.01                           0.01   \n",
       "4                            0.01                           0.01   \n",
       "\n",
       "   people_fully_vaccinated_per_hundred  daily_vaccinations_per_million  \\\n",
       "0                                  NaN                             NaN   \n",
       "1                                  NaN                            22.0   \n",
       "2                                  NaN                            22.0   \n",
       "3                                  NaN                            22.0   \n",
       "4                                  NaN                            23.0   \n",
       "\n",
       "          vaccines         source_name  \\\n",
       "0  Pfizer/BioNTech  Ministry of Health   \n",
       "1  Pfizer/BioNTech  Ministry of Health   \n",
       "2  Pfizer/BioNTech  Ministry of Health   \n",
       "3  Pfizer/BioNTech  Ministry of Health   \n",
       "4  Pfizer/BioNTech  Ministry of Health   \n",
       "\n",
       "                                      source_website  \n",
       "0  https://shendetesia.gov.al/covid19-ministria-e...  \n",
       "1  https://shendetesia.gov.al/covid19-ministria-e...  \n",
       "2  https://shendetesia.gov.al/covid19-ministria-e...  \n",
       "3  https://shendetesia.gov.al/covid19-ministria-e...  \n",
       "4  https://shendetesia.gov.al/covid19-ministria-e...  "
      ]
     },
     "execution_count": 7,
     "metadata": {},
     "output_type": "execute_result"
    }
   ],
   "source": [
    "data.head()"
   ]
  },
  {
   "cell_type": "code",
   "execution_count": 8,
   "id": "d03673d3",
   "metadata": {},
   "outputs": [
    {
     "name": "stdout",
     "output_type": "stream",
     "text": [
      "Всего строк: 5236\n"
     ]
    }
   ],
   "source": [
    "total_count = data.shape[0]\n",
    "print('Всего строк: {}'.format(total_count))\n",
    "\n"
   ]
  },
  {
   "cell_type": "markdown",
   "id": "eafae0dc",
   "metadata": {},
   "source": [
    "# Обработка пропусков в данных "
   ]
  },
  {
   "cell_type": "code",
   "execution_count": 10,
   "id": "c618d555",
   "metadata": {},
   "outputs": [
    {
     "name": "stdout",
     "output_type": "stream",
     "text": [
      "Колонка iso_code. Тип данных object. Количество пустых значений 328, 6.26%.\n",
      "Колонка total_vaccinations. Тип данных float64. Количество пустых значений 1874, 35.79%.\n",
      "Колонка people_vaccinated. Тип данных float64. Количество пустых значений 2302, 43.96%.\n",
      "Колонка people_fully_vaccinated. Тип данных float64. Количество пустых значений 3239, 61.86%.\n",
      "Колонка daily_vaccinations_raw. Тип данных float64. Количество пустых значений 2406, 45.95%.\n",
      "Колонка daily_vaccinations. Тип данных float64. Количество пустых значений 183, 3.5%.\n",
      "Колонка total_vaccinations_per_hundred. Тип данных float64. Количество пустых значений 1874, 35.79%.\n",
      "Колонка people_vaccinated_per_hundred. Тип данных float64. Количество пустых значений 2302, 43.96%.\n",
      "Колонка people_fully_vaccinated_per_hundred. Тип данных float64. Количество пустых значений 3239, 61.86%.\n",
      "Колонка daily_vaccinations_per_million. Тип данных float64. Количество пустых значений 183, 3.5%.\n",
      "Колонка source_name. Тип данных object. Количество пустых значений 6, 0.11%.\n"
     ]
    }
   ],
   "source": [
    "\n",
    "\n",
    "# Выберем числовые колонки с пропущенными значениями\n",
    "# Цикл по колонкам датасета\n",
    "num_cols = []\n",
    "for col in data.columns:\n",
    "    # Количество пустых значений \n",
    "    temp_null_count = data[data[col].isnull()].shape[0]\n",
    "    dt = str(data[col].dtype)\n",
    "    if temp_null_count>0 and (dt=='float64' or dt=='int64' or dt=='object'):\n",
    "        num_cols.append(col)\n",
    "        temp_perc = round((temp_null_count / total_count) * 100.0, 2)\n",
    "        print('Колонка {}. Тип данных {}. Количество пустых значений {}, {}%.'.format(col, dt, temp_null_count, temp_perc))\n",
    "\n"
   ]
  },
  {
   "cell_type": "markdown",
   "id": "9e58d755",
   "metadata": {},
   "source": [
    "Сразу удалим колонки с слишком высоким процентом пропуска данных, далее будем работать с оставшимися колонками. "
   ]
  },
  {
   "cell_type": "code",
   "execution_count": 22,
   "id": "7c471d18",
   "metadata": {},
   "outputs": [
    {
     "data": {
      "text/plain": [
       "(5236, 10)"
      ]
     },
     "execution_count": 22,
     "metadata": {},
     "output_type": "execute_result"
    }
   ],
   "source": [
    "# Удаление колонок, содержащих пустые значения\n",
    "data = data.dropna(axis=1, thresh=3362)\n",
    "data.shape"
   ]
  },
  {
   "cell_type": "code",
   "execution_count": 26,
   "id": "46c5c178",
   "metadata": {},
   "outputs": [
    {
     "name": "stdout",
     "output_type": "stream",
     "text": [
      "Колонка total_vaccinations. Тип данных float64. Количество пустых значений 1874, 35.79%.\n",
      "Колонка daily_vaccinations. Тип данных float64. Количество пустых значений 183, 3.5%.\n",
      "Колонка total_vaccinations_per_hundred. Тип данных float64. Количество пустых значений 1874, 35.79%.\n",
      "Колонка daily_vaccinations_per_million. Тип данных float64. Количество пустых значений 183, 3.5%.\n"
     ]
    }
   ],
   "source": [
    "# Выберем числовые колонки с пропущенными значениями\n",
    "# Цикл по колонкам датасета\n",
    "num_cols = []\n",
    "for col in data.columns:\n",
    "    # Количество пустых значений \n",
    "    temp_null_count = data[data[col].isnull()].shape[0]\n",
    "    dt = str(data[col].dtype)\n",
    "    if temp_null_count>0 and (dt=='float64' or dt=='int64'):\n",
    "        num_cols.append(col)\n",
    "        temp_perc = round((temp_null_count / total_count) * 100.0, 2)\n",
    "        print('Колонка {}. Тип данных {}. Количество пустых значений {}, {}%.'.format(col, dt, temp_null_count, temp_perc))"
   ]
  },
  {
   "cell_type": "code",
   "execution_count": 27,
   "id": "65e20f91",
   "metadata": {},
   "outputs": [
    {
     "data": {
      "text/html": [
       "<div>\n",
       "<style scoped>\n",
       "    .dataframe tbody tr th:only-of-type {\n",
       "        vertical-align: middle;\n",
       "    }\n",
       "\n",
       "    .dataframe tbody tr th {\n",
       "        vertical-align: top;\n",
       "    }\n",
       "\n",
       "    .dataframe thead th {\n",
       "        text-align: right;\n",
       "    }\n",
       "</style>\n",
       "<table border=\"1\" class=\"dataframe\">\n",
       "  <thead>\n",
       "    <tr style=\"text-align: right;\">\n",
       "      <th></th>\n",
       "      <th>total_vaccinations</th>\n",
       "      <th>daily_vaccinations</th>\n",
       "      <th>total_vaccinations_per_hundred</th>\n",
       "      <th>daily_vaccinations_per_million</th>\n",
       "    </tr>\n",
       "  </thead>\n",
       "  <tbody>\n",
       "    <tr>\n",
       "      <th>0</th>\n",
       "      <td>0.0</td>\n",
       "      <td>NaN</td>\n",
       "      <td>0.00</td>\n",
       "      <td>NaN</td>\n",
       "    </tr>\n",
       "    <tr>\n",
       "      <th>1</th>\n",
       "      <td>NaN</td>\n",
       "      <td>64.0</td>\n",
       "      <td>NaN</td>\n",
       "      <td>22.0</td>\n",
       "    </tr>\n",
       "    <tr>\n",
       "      <th>2</th>\n",
       "      <td>128.0</td>\n",
       "      <td>64.0</td>\n",
       "      <td>0.00</td>\n",
       "      <td>22.0</td>\n",
       "    </tr>\n",
       "    <tr>\n",
       "      <th>3</th>\n",
       "      <td>188.0</td>\n",
       "      <td>63.0</td>\n",
       "      <td>0.01</td>\n",
       "      <td>22.0</td>\n",
       "    </tr>\n",
       "    <tr>\n",
       "      <th>4</th>\n",
       "      <td>266.0</td>\n",
       "      <td>66.0</td>\n",
       "      <td>0.01</td>\n",
       "      <td>23.0</td>\n",
       "    </tr>\n",
       "    <tr>\n",
       "      <th>...</th>\n",
       "      <td>...</td>\n",
       "      <td>...</td>\n",
       "      <td>...</td>\n",
       "      <td>...</td>\n",
       "    </tr>\n",
       "    <tr>\n",
       "      <th>5231</th>\n",
       "      <td>21456.0</td>\n",
       "      <td>2877.0</td>\n",
       "      <td>0.14</td>\n",
       "      <td>194.0</td>\n",
       "    </tr>\n",
       "    <tr>\n",
       "      <th>5232</th>\n",
       "      <td>25077.0</td>\n",
       "      <td>3005.0</td>\n",
       "      <td>0.17</td>\n",
       "      <td>202.0</td>\n",
       "    </tr>\n",
       "    <tr>\n",
       "      <th>5233</th>\n",
       "      <td>27970.0</td>\n",
       "      <td>2871.0</td>\n",
       "      <td>0.19</td>\n",
       "      <td>193.0</td>\n",
       "    </tr>\n",
       "    <tr>\n",
       "      <th>5234</th>\n",
       "      <td>30658.0</td>\n",
       "      <td>2807.0</td>\n",
       "      <td>0.21</td>\n",
       "      <td>189.0</td>\n",
       "    </tr>\n",
       "    <tr>\n",
       "      <th>5235</th>\n",
       "      <td>31325.0</td>\n",
       "      <td>2678.0</td>\n",
       "      <td>0.21</td>\n",
       "      <td>180.0</td>\n",
       "    </tr>\n",
       "  </tbody>\n",
       "</table>\n",
       "<p>5236 rows × 4 columns</p>\n",
       "</div>"
      ],
      "text/plain": [
       "      total_vaccinations  daily_vaccinations  total_vaccinations_per_hundred  \\\n",
       "0                    0.0                 NaN                            0.00   \n",
       "1                    NaN                64.0                             NaN   \n",
       "2                  128.0                64.0                            0.00   \n",
       "3                  188.0                63.0                            0.01   \n",
       "4                  266.0                66.0                            0.01   \n",
       "...                  ...                 ...                             ...   \n",
       "5231             21456.0              2877.0                            0.14   \n",
       "5232             25077.0              3005.0                            0.17   \n",
       "5233             27970.0              2871.0                            0.19   \n",
       "5234             30658.0              2807.0                            0.21   \n",
       "5235             31325.0              2678.0                            0.21   \n",
       "\n",
       "      daily_vaccinations_per_million  \n",
       "0                                NaN  \n",
       "1                               22.0  \n",
       "2                               22.0  \n",
       "3                               22.0  \n",
       "4                               23.0  \n",
       "...                              ...  \n",
       "5231                           194.0  \n",
       "5232                           202.0  \n",
       "5233                           193.0  \n",
       "5234                           189.0  \n",
       "5235                           180.0  \n",
       "\n",
       "[5236 rows x 4 columns]"
      ]
     },
     "execution_count": 27,
     "metadata": {},
     "output_type": "execute_result"
    }
   ],
   "source": [
    "# Фильтр по колонкам с пропущенными значениями\n",
    "data_num = data[num_cols]\n",
    "data_num\n",
    "\n"
   ]
  },
  {
   "cell_type": "code",
   "execution_count": 28,
   "id": "d8b4068b",
   "metadata": {},
   "outputs": [
    {
     "data": {
      "image/png": "[encoded data removed]",
      "text/plain": [
       "<Figure size 432x288 with 1 Axes>"
      ]
     },
     "metadata": {},
     "output_type": "display_data"
    },
    {
     "data": {
      "image/png": "[encoded data removed]",
      "text/plain": [
       "<Figure size 432x288 with 1 Axes>"
      ]
     },
     "metadata": {},
     "output_type": "display_data"
    },
    {
     "data": {
      "image/png": "[encoded data removed]",
      "text/plain": [
       "<Figure size 432x288 with 1 Axes>"
      ]
     },
     "metadata": {},
     "output_type": "display_data"
    },
    {
     "data": {
      "image/png": "[encoded data removed]",
      "text/plain": [
       "<Figure size 432x288 with 1 Axes>"
      ]
     },
     "metadata": {},
     "output_type": "display_data"
    }
   ],
   "source": [
    "# Гистограмма по признакам\n",
    "for col in data_num:\n",
    "    plt.hist(data[col], 50)\n",
    "    plt.xlabel(col)\n",
    "    plt.show()"
   ]
  },
  {
   "cell_type": "markdown",
   "id": "8a463925",
   "metadata": {},
   "source": [
    "Как видно из представленных гистограмм, лучше всего использовать мод в качестве значения при заполнении пропусков."
   ]
  },
  {
   "cell_type": "code",
   "execution_count": 29,
   "id": "5319fa7d",
   "metadata": {},
   "outputs": [],
   "source": [
    "from sklearn.impute import SimpleImputer\n",
    "from sklearn.impute import MissingIndicator\n",
    "\n"
   ]
  },
  {
   "cell_type": "code",
   "execution_count": 68,
   "id": "64e00a5f",
   "metadata": {},
   "outputs": [],
   "source": [
    "\n",
    "\n",
    "# Более сложная функция, которая позволяет задавать колонку и вид импьютации\n",
    "def test_num_impute_col(dataset, column, strategy_param):\n",
    "    temp_data = dataset[[column]]\n",
    "    \n",
    "    indicator = MissingIndicator()\n",
    "    mask_missing_values_only = indicator.fit_transform(temp_data)\n",
    "    \n",
    "    imp_num = SimpleImputer(strategy=strategy_param)\n",
    "    data_num_imp = imp_num.fit_transform(temp_data)\n",
    "    \n",
    "    filled_data = data_num_imp[mask_missing_values_only]\n",
    "    \n",
    "    return column, strategy_param, filled_data.size, filled_data[0], filled_data[filled_data.size-1]\n",
    "\n",
    "\n",
    "    \n",
    "    \n",
    "    \n"
   ]
  },
  {
   "cell_type": "code",
   "execution_count": 73,
   "id": "adae219c",
   "metadata": {},
   "outputs": [
    {
     "data": {
      "text/plain": [
       "('total_vaccinations', 'most_frequent', 1874, 0.0, 0.0)"
      ]
     },
     "execution_count": 73,
     "metadata": {},
     "output_type": "execute_result"
    }
   ],
   "source": [
    "test_num_impute_col(data, 'total_vaccinations', 'most_frequent')"
   ]
  },
  {
   "cell_type": "code",
   "execution_count": 74,
   "id": "4c4aea56",
   "metadata": {},
   "outputs": [
    {
     "data": {
      "text/plain": [
       "('daily_vaccinations', 'most_frequent', 183, 403.0, 403.0)"
      ]
     },
     "execution_count": 74,
     "metadata": {},
     "output_type": "execute_result"
    }
   ],
   "source": [
    "test_num_impute_col(data, 'daily_vaccinations', 'most_frequent')"
   ]
  },
  {
   "cell_type": "code",
   "execution_count": 75,
   "id": "006b33bc",
   "metadata": {},
   "outputs": [
    {
     "data": {
      "text/plain": [
       "('total_vaccinations_per_hundred', 'most_frequent', 1874, 0.0, 0.0)"
      ]
     },
     "execution_count": 75,
     "metadata": {},
     "output_type": "execute_result"
    }
   ],
   "source": [
    "test_num_impute_col(data, 'total_vaccinations_per_hundred', 'most_frequent')"
   ]
  },
  {
   "cell_type": "code",
   "execution_count": 76,
   "id": "933b377f",
   "metadata": {},
   "outputs": [
    {
     "data": {
      "text/plain": [
       "('daily_vaccinations_per_million', 'most_frequent', 183, 43.0, 43.0)"
      ]
     },
     "execution_count": 76,
     "metadata": {},
     "output_type": "execute_result"
    }
   ],
   "source": [
    "test_num_impute_col(data, 'daily_vaccinations_per_million', 'most_frequent')"
   ]
  },
  {
   "cell_type": "markdown",
   "id": "42505b43",
   "metadata": {},
   "source": [
    "# Обработка пропусков в категориальных данных "
   ]
  },
  {
   "cell_type": "code",
   "execution_count": 77,
   "id": "6fe50b05",
   "metadata": {},
   "outputs": [
    {
     "name": "stdout",
     "output_type": "stream",
     "text": [
      "Колонка iso_code. Тип данных object. Количество пустых значений 328, 6.26%.\n",
      "Колонка source_name. Тип данных object. Количество пустых значений 6, 0.11%.\n"
     ]
    }
   ],
   "source": [
    "# Выберем категориальные колонки с пропущенными значениями\n",
    "# Цикл по колонкам датасета\n",
    "cat_cols = []\n",
    "for col in data.columns:\n",
    "    # Количество пустых значений \n",
    "    temp_null_count = data[data[col].isnull()].shape[0]\n",
    "    dt = str(data[col].dtype)\n",
    "    if temp_null_count>0 and (dt=='object'):\n",
    "        cat_cols.append(col)\n",
    "        temp_perc = round((temp_null_count / total_count) * 100.0, 2)\n",
    "        print('Колонка {}. Тип данных {}. Количество пустых значений {}, {}%.'.format(col, dt, temp_null_count, temp_perc))"
   ]
  },
  {
   "cell_type": "code",
   "execution_count": 78,
   "id": "da87f54a",
   "metadata": {},
   "outputs": [
    {
     "data": {
      "text/plain": [
       "((5236, 10), (5230, 10))"
      ]
     },
     "execution_count": 78,
     "metadata": {},
     "output_type": "execute_result"
    }
   ],
   "source": [
    "# Удаление строк, содержащих пустые значения\n",
    "data_new_2 = data.dropna(axis=0, how='any', subset=['source_name'])\n",
    "(data.shape, data_new_2.shape)\n",
    "\n"
   ]
  },
  {
   "cell_type": "code",
   "execution_count": 80,
   "id": "871d960e",
   "metadata": {},
   "outputs": [
    {
     "data": {
      "text/html": [
       "<div>\n",
       "<style scoped>\n",
       "    .dataframe tbody tr th:only-of-type {\n",
       "        vertical-align: middle;\n",
       "    }\n",
       "\n",
       "    .dataframe tbody tr th {\n",
       "        vertical-align: top;\n",
       "    }\n",
       "\n",
       "    .dataframe thead th {\n",
       "        text-align: right;\n",
       "    }\n",
       "</style>\n",
       "<table border=\"1\" class=\"dataframe\">\n",
       "  <thead>\n",
       "    <tr style=\"text-align: right;\">\n",
       "      <th></th>\n",
       "      <th>iso_code</th>\n",
       "    </tr>\n",
       "  </thead>\n",
       "  <tbody>\n",
       "    <tr>\n",
       "      <th>0</th>\n",
       "      <td>ALB</td>\n",
       "    </tr>\n",
       "    <tr>\n",
       "      <th>1</th>\n",
       "      <td>ALB</td>\n",
       "    </tr>\n",
       "    <tr>\n",
       "      <th>2</th>\n",
       "      <td>ALB</td>\n",
       "    </tr>\n",
       "    <tr>\n",
       "      <th>3</th>\n",
       "      <td>ALB</td>\n",
       "    </tr>\n",
       "    <tr>\n",
       "      <th>4</th>\n",
       "      <td>ALB</td>\n",
       "    </tr>\n",
       "  </tbody>\n",
       "</table>\n",
       "</div>"
      ],
      "text/plain": [
       "  iso_code\n",
       "0      ALB\n",
       "1      ALB\n",
       "2      ALB\n",
       "3      ALB\n",
       "4      ALB"
      ]
     },
     "execution_count": 80,
     "metadata": {},
     "output_type": "execute_result"
    }
   ],
   "source": [
    "cat_temp_data = data[['iso_code']]\n",
    "cat_temp_data.head()\n",
    "\n"
   ]
  },
  {
   "cell_type": "code",
   "execution_count": 83,
   "id": "342d127e",
   "metadata": {},
   "outputs": [
    {
     "data": {
      "text/plain": [
       "array(['ALB', 'DZA', 'AND', 'AIA', 'ARG', 'AUS', 'AUT', 'AZE', 'BHR',\n",
       "       'BGD', 'BRB', 'BLR', 'BEL', 'BLZ', 'BMU', 'BOL', 'BRA', 'BGR',\n",
       "       'KHM', 'CAN', 'CYM', 'CHL', 'CHN', 'COL', 'CRI', 'HRV', 'CYP',\n",
       "       'CZE', 'DNK', 'DOM', 'ECU', 'EGY', 'SLV', nan, 'EST', 'FRO', 'FLK',\n",
       "       'FIN', 'FRA', 'DEU', 'GIB', 'GRC', 'GRL', 'GTM', 'GGY', 'GUY',\n",
       "       'HND', 'HKG', 'HUN', 'ISL', 'IND', 'IDN', 'IRN', 'IRL', 'IMN',\n",
       "       'ISR', 'ITA', 'JPN', 'JEY', 'JOR', 'KAZ', 'KWT', 'LVA', 'LBN',\n",
       "       'LIE', 'LTU', 'LUX', 'MAC', 'MYS', 'MDV', 'MLT', 'MUS', 'MEX',\n",
       "       'MCO', 'MNG', 'MNE', 'MSR', 'MAR', 'MMR', 'NPL', 'NLD', 'NZL',\n",
       "       'OWID_NCY', 'NOR', 'OMN', 'PAK', 'PAN', 'PRY', 'PER', 'PHL', 'POL',\n",
       "       'PRT', 'QAT', 'ROU', 'RUS', 'SHN', 'SMR', 'SAU', 'SEN', 'SRB',\n",
       "       'SYC', 'SGP', 'SVK', 'SVN', 'ZAF', 'KOR', 'ESP', 'LKA', 'SWE',\n",
       "       'CHE', 'THA', 'TTO', 'TUR', 'TCA', 'UKR', 'ARE', 'GBR', 'USA',\n",
       "       'URY', 'VEN', 'ZWE'], dtype=object)"
      ]
     },
     "execution_count": 83,
     "metadata": {},
     "output_type": "execute_result"
    }
   ],
   "source": [
    "cat_temp_data['iso_code'].unique()\n",
    "\n"
   ]
  },
  {
   "cell_type": "code",
   "execution_count": 84,
   "id": "5f1daa09",
   "metadata": {},
   "outputs": [
    {
     "data": {
      "text/plain": [
       "(328, 1)"
      ]
     },
     "execution_count": 84,
     "metadata": {},
     "output_type": "execute_result"
    }
   ],
   "source": [
    "cat_temp_data[cat_temp_data['iso_code'].isnull()].shape"
   ]
  },
  {
   "cell_type": "code",
   "execution_count": 85,
   "id": "32bce4d0",
   "metadata": {},
   "outputs": [
    {
     "data": {
      "text/plain": [
       "array([['ALB'],\n",
       "       ['ALB'],\n",
       "       ['ALB'],\n",
       "       ...,\n",
       "       ['ZWE'],\n",
       "       ['ZWE'],\n",
       "       ['ZWE']], dtype=object)"
      ]
     },
     "execution_count": 85,
     "metadata": {},
     "output_type": "execute_result"
    }
   ],
   "source": [
    "# Импьютация наиболее частыми значениями\n",
    "imp2 = SimpleImputer(missing_values=np.nan, strategy='most_frequent')\n",
    "data_imp2 = imp2.fit_transform(cat_temp_data)\n",
    "data_imp2"
   ]
  },
  {
   "cell_type": "code",
   "execution_count": 86,
   "id": "5782242c",
   "metadata": {},
   "outputs": [
    {
     "data": {
      "text/plain": [
       "array(['AIA', 'ALB', 'AND', 'ARE', 'ARG', 'AUS', 'AUT', 'AZE', 'BEL',\n",
       "       'BGD', 'BGR', 'BHR', 'BLR', 'BLZ', 'BMU', 'BOL', 'BRA', 'BRB',\n",
       "       'CAN', 'CHE', 'CHL', 'CHN', 'COL', 'CRI', 'CYM', 'CYP', 'CZE',\n",
       "       'DEU', 'DNK', 'DOM', 'DZA', 'ECU', 'EGY', 'ESP', 'EST', 'FIN',\n",
       "       'FLK', 'FRA', 'FRO', 'GBR', 'GGY', 'GIB', 'GRC', 'GRL', 'GTM',\n",
       "       'GUY', 'HKG', 'HND', 'HRV', 'HUN', 'IDN', 'IMN', 'IND', 'IRL',\n",
       "       'IRN', 'ISL', 'ISR', 'ITA', 'JEY', 'JOR', 'JPN', 'KAZ', 'KHM',\n",
       "       'KOR', 'KWT', 'LBN', 'LIE', 'LKA', 'LTU', 'LUX', 'LVA', 'MAC',\n",
       "       'MAR', 'MCO', 'MDV', 'MEX', 'MLT', 'MMR', 'MNE', 'MNG', 'MSR',\n",
       "       'MUS', 'MYS', 'NLD', 'NOR', 'NPL', 'NZL', 'OMN', 'OWID_NCY', 'PAK',\n",
       "       'PAN', 'PER', 'PHL', 'POL', 'PRT', 'PRY', 'QAT', 'ROU', 'RUS',\n",
       "       'SAU', 'SEN', 'SGP', 'SHN', 'SLV', 'SMR', 'SRB', 'SVK', 'SVN',\n",
       "       'SWE', 'SYC', 'TCA', 'THA', 'TTO', 'TUR', 'UKR', 'URY', 'USA',\n",
       "       'VEN', 'ZAF', 'ZWE'], dtype=object)"
      ]
     },
     "execution_count": 86,
     "metadata": {},
     "output_type": "execute_result"
    }
   ],
   "source": [
    "# Пустые значения отсутствуют\n",
    "np.unique(data_imp2)\n",
    "\n"
   ]
  },
  {
   "cell_type": "markdown",
   "id": "c58ca816",
   "metadata": {},
   "source": [
    "# Преобразование категориальных признаков в числовые"
   ]
  },
  {
   "cell_type": "code",
   "execution_count": 87,
   "id": "b8e2fad1",
   "metadata": {},
   "outputs": [
    {
     "data": {
      "text/html": [
       "<div>\n",
       "<style scoped>\n",
       "    .dataframe tbody tr th:only-of-type {\n",
       "        vertical-align: middle;\n",
       "    }\n",
       "\n",
       "    .dataframe tbody tr th {\n",
       "        vertical-align: top;\n",
       "    }\n",
       "\n",
       "    .dataframe thead th {\n",
       "        text-align: right;\n",
       "    }\n",
       "</style>\n",
       "<table border=\"1\" class=\"dataframe\">\n",
       "  <thead>\n",
       "    <tr style=\"text-align: right;\">\n",
       "      <th></th>\n",
       "      <th>c1</th>\n",
       "    </tr>\n",
       "  </thead>\n",
       "  <tbody>\n",
       "    <tr>\n",
       "      <th>0</th>\n",
       "      <td>ALB</td>\n",
       "    </tr>\n",
       "    <tr>\n",
       "      <th>1</th>\n",
       "      <td>ALB</td>\n",
       "    </tr>\n",
       "    <tr>\n",
       "      <th>2</th>\n",
       "      <td>ALB</td>\n",
       "    </tr>\n",
       "    <tr>\n",
       "      <th>3</th>\n",
       "      <td>ALB</td>\n",
       "    </tr>\n",
       "    <tr>\n",
       "      <th>4</th>\n",
       "      <td>ALB</td>\n",
       "    </tr>\n",
       "    <tr>\n",
       "      <th>...</th>\n",
       "      <td>...</td>\n",
       "    </tr>\n",
       "    <tr>\n",
       "      <th>5231</th>\n",
       "      <td>ZWE</td>\n",
       "    </tr>\n",
       "    <tr>\n",
       "      <th>5232</th>\n",
       "      <td>ZWE</td>\n",
       "    </tr>\n",
       "    <tr>\n",
       "      <th>5233</th>\n",
       "      <td>ZWE</td>\n",
       "    </tr>\n",
       "    <tr>\n",
       "      <th>5234</th>\n",
       "      <td>ZWE</td>\n",
       "    </tr>\n",
       "    <tr>\n",
       "      <th>5235</th>\n",
       "      <td>ZWE</td>\n",
       "    </tr>\n",
       "  </tbody>\n",
       "</table>\n",
       "<p>5236 rows × 1 columns</p>\n",
       "</div>"
      ],
      "text/plain": [
       "       c1\n",
       "0     ALB\n",
       "1     ALB\n",
       "2     ALB\n",
       "3     ALB\n",
       "4     ALB\n",
       "...   ...\n",
       "5231  ZWE\n",
       "5232  ZWE\n",
       "5233  ZWE\n",
       "5234  ZWE\n",
       "5235  ZWE\n",
       "\n",
       "[5236 rows x 1 columns]"
      ]
     },
     "execution_count": 87,
     "metadata": {},
     "output_type": "execute_result"
    }
   ],
   "source": [
    "cat_enc = pd.DataFrame({'c1':data_imp2.T[0]})\n",
    "cat_enc"
   ]
  },
  {
   "cell_type": "code",
   "execution_count": 88,
   "id": "8084e941",
   "metadata": {},
   "outputs": [],
   "source": [
    "from sklearn.preprocessing import LabelEncoder, OneHotEncoder"
   ]
  },
  {
   "cell_type": "code",
   "execution_count": 89,
   "id": "0b54b746",
   "metadata": {},
   "outputs": [],
   "source": [
    "le = LabelEncoder()\n",
    "cat_enc_le = le.fit_transform(cat_enc['c1'])\n",
    "\n"
   ]
  },
  {
   "cell_type": "code",
   "execution_count": 90,
   "id": "be3141d7",
   "metadata": {},
   "outputs": [
    {
     "data": {
      "text/plain": [
       "array(['ALB', 'DZA', 'AND', 'AIA', 'ARG', 'AUS', 'AUT', 'AZE', 'BHR',\n",
       "       'BGD', 'BRB', 'BLR', 'BEL', 'BLZ', 'BMU', 'BOL', 'BRA', 'BGR',\n",
       "       'KHM', 'CAN', 'CYM', 'CHL', 'CHN', 'COL', 'CRI', 'HRV', 'CYP',\n",
       "       'CZE', 'DNK', 'DOM', 'ECU', 'EGY', 'SLV', 'LTU', 'EST', 'FRO',\n",
       "       'FLK', 'FIN', 'FRA', 'DEU', 'GIB', 'GRC', 'GRL', 'GTM', 'GGY',\n",
       "       'GUY', 'HND', 'HKG', 'HUN', 'ISL', 'IND', 'IDN', 'IRN', 'IRL',\n",
       "       'IMN', 'ISR', 'ITA', 'JPN', 'JEY', 'JOR', 'KAZ', 'KWT', 'LVA',\n",
       "       'LBN', 'LIE', 'LUX', 'MAC', 'MYS', 'MDV', 'MLT', 'MUS', 'MEX',\n",
       "       'MCO', 'MNG', 'MNE', 'MSR', 'MAR', 'MMR', 'NPL', 'NLD', 'NZL',\n",
       "       'OWID_NCY', 'NOR', 'OMN', 'PAK', 'PAN', 'PRY', 'PER', 'PHL', 'POL',\n",
       "       'PRT', 'QAT', 'ROU', 'RUS', 'SHN', 'SMR', 'SAU', 'SEN', 'SRB',\n",
       "       'SYC', 'SGP', 'SVK', 'SVN', 'ZAF', 'KOR', 'ESP', 'LKA', 'SWE',\n",
       "       'CHE', 'THA', 'TTO', 'TUR', 'TCA', 'UKR', 'ARE', 'GBR', 'USA',\n",
       "       'URY', 'VEN', 'ZWE'], dtype=object)"
      ]
     },
     "execution_count": 90,
     "metadata": {},
     "output_type": "execute_result"
    }
   ],
   "source": [
    "cat_enc['c1'].unique()\n",
    "\n"
   ]
  },
  {
   "cell_type": "code",
   "execution_count": 91,
   "id": "78f06079",
   "metadata": {},
   "outputs": [
    {
     "data": {
      "text/plain": [
       "array([  0,   1,   2,   3,   4,   5,   6,   7,   8,   9,  10,  11,  12,\n",
       "        13,  14,  15,  16,  17,  18,  19,  20,  21,  22,  23,  24,  25,\n",
       "        26,  27,  28,  29,  30,  31,  32,  33,  34,  35,  36,  37,  38,\n",
       "        39,  40,  41,  42,  43,  44,  45,  46,  47,  48,  49,  50,  51,\n",
       "        52,  53,  54,  55,  56,  57,  58,  59,  60,  61,  62,  63,  64,\n",
       "        65,  66,  67,  68,  69,  70,  71,  72,  73,  74,  75,  76,  77,\n",
       "        78,  79,  80,  81,  82,  83,  84,  85,  86,  87,  88,  89,  90,\n",
       "        91,  92,  93,  94,  95,  96,  97,  98,  99, 100, 101, 102, 103,\n",
       "       104, 105, 106, 107, 108, 109, 110, 111, 112, 113, 114, 115, 116,\n",
       "       117, 118, 119])"
      ]
     },
     "execution_count": 91,
     "metadata": {},
     "output_type": "execute_result"
    }
   ],
   "source": [
    "np.unique(cat_enc_le)"
   ]
  },
  {
   "cell_type": "code",
   "execution_count": 93,
   "id": "78d526a8",
   "metadata": {},
   "outputs": [
    {
     "data": {
      "text/plain": [
       "array(['AIA', 'ALB', 'AND', 'ARE', 'ARG', 'AUS', 'AUT', 'AZE', 'BEL',\n",
       "       'BGD', 'BGR', 'BHR', 'BLR', 'BLZ', 'BMU', 'BOL', 'BRA', 'BRB',\n",
       "       'CAN', 'CHE', 'CHL', 'CHN', 'COL', 'CRI', 'CYM', 'CYP', 'CZE',\n",
       "       'DEU', 'DNK', 'DOM', 'DZA', 'ECU', 'EGY', 'ESP', 'EST', 'FIN',\n",
       "       'FLK', 'FRA', 'FRO', 'GBR', 'GGY', 'GIB', 'GRC', 'GRL', 'GTM',\n",
       "       'GUY', 'HKG', 'HND', 'HRV', 'HUN', 'IDN', 'IMN', 'IND', 'IRL',\n",
       "       'IRN', 'ISL', 'ISR', 'ITA', 'JEY', 'JOR', 'JPN', 'KAZ', 'KHM',\n",
       "       'KOR', 'KWT', 'LBN', 'LIE', 'LKA', 'LTU', 'LUX', 'LVA', 'MAC',\n",
       "       'MAR', 'MCO', 'MDV', 'MEX', 'MLT', 'MMR', 'MNE', 'MNG', 'MSR',\n",
       "       'MUS', 'MYS', 'NLD', 'NOR', 'NPL', 'NZL', 'OMN', 'OWID_NCY', 'PAK',\n",
       "       'PAN', 'PER', 'PHL', 'POL', 'PRT', 'PRY', 'QAT', 'ROU', 'RUS',\n",
       "       'SAU', 'SEN', 'SGP', 'SHN', 'SLV', 'SMR', 'SRB', 'SVK', 'SVN',\n",
       "       'SWE', 'SYC', 'TCA', 'THA', 'TTO', 'TUR', 'UKR', 'URY', 'USA',\n",
       "       'VEN', 'ZAF', 'ZWE'], dtype=object)"
      ]
     },
     "execution_count": 93,
     "metadata": {},
     "output_type": "execute_result"
    }
   ],
   "source": [
    "le.inverse_transform([  0,   1,   2,   3,   4,   5,   6,   7,   8,   9,  10,  11,  12,\n",
    "        13,  14,  15,  16,  17,  18,  19,  20,  21,  22,  23,  24,  25,\n",
    "        26,  27,  28,  29,  30,  31,  32,  33,  34,  35,  36,  37,  38,\n",
    "        39,  40,  41,  42,  43,  44,  45,  46,  47,  48,  49,  50,  51,\n",
    "        52,  53,  54,  55,  56,  57,  58,  59,  60,  61,  62,  63,  64,\n",
    "        65,  66,  67,  68,  69,  70,  71,  72,  73,  74,  75,  76,  77,\n",
    "        78,  79,  80,  81,  82,  83,  84,  85,  86,  87,  88,  89,  90,\n",
    "        91,  92,  93,  94,  95,  96,  97,  98,  99, 100, 101, 102, 103,\n",
    "       104, 105, 106, 107, 108, 109, 110, 111, 112, 113, 114, 115, 116,\n",
    "       117, 118, 119])\n",
    "\n"
   ]
  },
  {
   "cell_type": "markdown",
   "id": "948245fd",
   "metadata": {},
   "source": [
    "# Масштабирование"
   ]
  },
  {
   "cell_type": "code",
   "execution_count": 94,
   "id": "4ed8a85d",
   "metadata": {},
   "outputs": [],
   "source": [
    "from sklearn.preprocessing import MinMaxScaler, StandardScaler, Normalizer\n",
    "\n"
   ]
  },
  {
   "cell_type": "code",
   "execution_count": 97,
   "id": "641953bb",
   "metadata": {},
   "outputs": [],
   "source": [
    "sc1 = MinMaxScaler()\n",
    "sc1_data = sc1.fit_transform(data[['total_vaccinations']])\n",
    "\n"
   ]
  },
  {
   "cell_type": "code",
   "execution_count": 98,
   "id": "bb5a5a05",
   "metadata": {},
   "outputs": [
    {
     "data": {
      "image/png": "[encoded data removed]",
      "text/plain": [
       "<Figure size 432x288 with 1 Axes>"
      ]
     },
     "metadata": {},
     "output_type": "display_data"
    }
   ],
   "source": [
    "plt.hist(data['total_vaccinations'], 50)\n",
    "plt.show()\n",
    "\n"
   ]
  },
  {
   "cell_type": "code",
   "execution_count": 99,
   "id": "00bda05e",
   "metadata": {},
   "outputs": [
    {
     "data": {
      "image/png": "[encoded data removed]",
      "text/plain": [
       "<Figure size 432x288 with 1 Axes>"
      ]
     },
     "metadata": {},
     "output_type": "display_data"
    }
   ],
   "source": [
    "plt.hist(sc1_data, 50)\n",
    "plt.show()\n",
    "\n"
   ]
  },
  {
   "cell_type": "markdown",
   "id": "0757ab36",
   "metadata": {},
   "source": [
    "Как видим по графикам выше, масштабирование не изменило гистограмму. "
   ]
  }
 ],
 "metadata": {
  "kernelspec": {
   "display_name": "Python 3",
   "language": "python",
   "name": "python3"
  },
  "language_info": {
   "codemirror_mode": {
    "name": "ipython",
    "version": 3
   },
   "file_extension": ".py",
   "mimetype": "text/x-python",
   "name": "python",
   "nbconvert_exporter": "python",
   "pygments_lexer": "ipython3",
   "version": "3.9.5"
  }
 },
 "nbformat": 4,
 "nbformat_minor": 5
}
